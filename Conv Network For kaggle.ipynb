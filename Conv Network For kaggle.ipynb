{
 "cells": [
  {
   "cell_type": "code",
   "execution_count": 58,
   "metadata": {},
   "outputs": [
    {
     "name": "stdout",
     "output_type": "stream",
     "text": [
      "Train on 22451 samples, validate on 2495 samples\n",
      "Epoch 1/10\n",
      "22451/22451 [==============================] - 384s 17ms/sample - loss: 0.6706 - accuracy: 0.5927 - val_loss: 0.6526 - val_accuracy: 0.6112\n",
      "Epoch 2/10\n",
      "22451/22451 [==============================] - 379s 17ms/sample - loss: 0.6016 - accuracy: 0.6808 - val_loss: 0.5426 - val_accuracy: 0.7399\n",
      "Epoch 3/10\n",
      "22451/22451 [==============================] - 377s 17ms/sample - loss: 0.5132 - accuracy: 0.7496 - val_loss: 0.5405 - val_accuracy: 0.7395\n",
      "Epoch 4/10\n",
      "22451/22451 [==============================] - 378s 17ms/sample - loss: 0.4623 - accuracy: 0.7833 - val_loss: 0.5502 - val_accuracy: 0.7359\n",
      "Epoch 5/10\n",
      "22451/22451 [==============================] - 377s 17ms/sample - loss: 0.4311 - accuracy: 0.8017 - val_loss: 0.5294 - val_accuracy: 0.7603\n",
      "Epoch 6/10\n",
      "22451/22451 [==============================] - 376s 17ms/sample - loss: 0.3984 - accuracy: 0.8218 - val_loss: 0.5082 - val_accuracy: 0.7792\n",
      "Epoch 7/10\n",
      "22451/22451 [==============================] - 377s 17ms/sample - loss: 0.3706 - accuracy: 0.8358 - val_loss: 0.4973 - val_accuracy: 0.7780\n",
      "Epoch 8/10\n",
      "22451/22451 [==============================] - 378s 17ms/sample - loss: 0.3422 - accuracy: 0.8478 - val_loss: 0.5228 - val_accuracy: 0.7780\n",
      "Epoch 9/10\n",
      "22451/22451 [==============================] - 375s 17ms/sample - loss: 0.3169 - accuracy: 0.8635 - val_loss: 0.5228 - val_accuracy: 0.7776\n",
      "Epoch 10/10\n",
      "22451/22451 [==============================] - 376s 17ms/sample - loss: 0.2946 - accuracy: 0.8721 - val_loss: 0.5419 - val_accuracy: 0.7840\n"
     ]
    },
    {
     "data": {
      "text/plain": [
       "<tensorflow.python.keras.callbacks.History at 0x1845991dc88>"
      ]
     },
     "execution_count": 58,
     "metadata": {},
     "output_type": "execute_result"
    }
   ],
   "source": [
    "import tensorflow as tf\n",
    "from tensorflow.keras.models import Sequential\n",
    "from tensorflow.keras.layers import Dense, Dropout, Activation, Flatten, Conv2D, MaxPooling2D\n",
    "import pickle\n",
    "import numpy as np\n",
    "\n",
    "X= pickle.load(open(\"X.pickle\",\"rb\"))\n",
    "y= pickle.load(open(\"y.pickle\",\"rb\"))\n",
    "IMG_SIZE = 80\n",
    "\n",
    "X = np.array(X).reshape(-1, IMG_SIZE, IMG_SIZE, 1)\n",
    "\n",
    "y = np.array(y)\n",
    "\n",
    "X= X/255\n",
    "\n",
    "model = Sequential()\n",
    "model.add(  Conv2D(64,(3,3), input_shape =X.shape[1:]     ))\n",
    "model.add(Activation(\"relu\"))\n",
    "model.add(MaxPooling2D(pool_size=(2,2)))\n",
    "\n",
    "model.add(Conv2D(64,(3,3)))\n",
    "model.add(Activation(\"relu\"))\n",
    "model.add(MaxPooling2D(pool_size=(2,2)))\n",
    "\n",
    "model.add(Flatten())\n",
    "model.add(Dense(64))\n",
    "\n",
    "model.add(Dense(1))\n",
    "model.add(Activation('sigmoid'))\n",
    "\n",
    "model.compile(loss=\"binary_crossentropy\", optimizer=\"adam\", metrics= ['accuracy'])\n",
    "\n",
    "model.fit(X, y, batch_size=32,epochs =13 ,validation_split=0.1)"
   ]
  },
  {
   "cell_type": "code",
   "execution_count": 59,
   "metadata": {},
   "outputs": [
    {
     "name": "stdout",
     "output_type": "stream",
     "text": [
      "INFO:tensorflow:Assets written to: kagle_reader.model\\assets\n"
     ]
    }
   ],
   "source": [
    "model.save('kagle_reader.model')"
   ]
  },
  {
   "cell_type": "code",
   "execution_count": 14,
   "metadata": {},
   "outputs": [],
   "source": [
    "new_model = tf.keras.models.load_model('kagle_reader.model')"
   ]
  },
  {
   "cell_type": "code",
   "execution_count": 60,
   "metadata": {},
   "outputs": [],
   "source": [
    "prediction = new_model.predict(X)"
   ]
  },
  {
   "cell_type": "code",
   "execution_count": 71,
   "metadata": {},
   "outputs": [
    {
     "name": "stdout",
     "output_type": "stream",
     "text": [
      "its a DOG\n"
     ]
    }
   ],
   "source": [
    "i=5\n",
    "\n",
    "if prediction[i]>0.5:\n",
    "    print(\"its a CAT\")\n",
    "else:\n",
    "    print(\"its a DOG\")\n"
   ]
  },
  {
   "cell_type": "code",
   "execution_count": 72,
   "metadata": {},
   "outputs": [
    {
     "data": {
      "image/png": "[encoded data removed]",
      "text/plain": [
       "<Figure size 432x288 with 1 Axes>"
      ]
     },
     "metadata": {
      "needs_background": "light"
     },
     "output_type": "display_data"
    }
   ],
   "source": [
    "import matplotlib.pyplot as plt\n",
    "import cv2\n",
    "new_array= cv2.resize(X[5], (IMG_SIZE, IMG_SIZE))\n",
    "plt.imshow(new_array, cmap = 'gray')\n",
    "plt.show()"
   ]
  },
  {
   "cell_type": "code",
   "execution_count": null,
   "metadata": {},
   "outputs": [],
   "source": []
  }
 ],
 "metadata": {
  "kernelspec": {
   "display_name": "Python 3",
   "language": "python",
   "name": "python3"
  },
  "language_info": {
   "codemirror_mode": {
    "name": "ipython",
    "version": 3
   },
   "file_extension": ".py",
   "mimetype": "text/x-python",
   "name": "python",
   "nbconvert_exporter": "python",
   "pygments_lexer": "ipython3",
   "version": "3.7.4"
  }
 },
 "nbformat": 4,
 "nbformat_minor": 2
}
